{
  "nbformat": 4,
  "nbformat_minor": 0,
  "metadata": {
    "colab": {
      "provenance": [],
      "include_colab_link": true
    },
    "kernelspec": {
      "name": "python3",
      "display_name": "Python 3"
    },
    "language_info": {
      "name": "python"
    }
  },
  "cells": [
    {
      "cell_type": "markdown",
      "metadata": {
        "id": "view-in-github",
        "colab_type": "text"
      },
      "source": [
        "<a href=\"https://colab.research.google.com/github/aguidanadja/Pessoal/blob/main/Planilha_financeira.ipynb\" target=\"_parent\"><img src=\"https://colab.research.google.com/assets/colab-badge.svg\" alt=\"Open In Colab\"/></a>"
      ]
    },
    {
      "cell_type": "code",
      "execution_count": 51,
      "metadata": {
        "id": "Y3pWqXzJtXQG"
      },
      "outputs": [],
      "source": [
        "#  Importar pacotes\n",
        "import pandas as pd\n",
        "import numpy as np\n",
        "\n",
        "# Caminho até o diretório\n",
        "path = '/content/sample_data/'\n",
        "filename =  'extratoBB_2025-01.csv'"
      ]
    },
    {
      "cell_type": "code",
      "source": [
        "# Ler arquivo (data frame)\n",
        "df = pd.read_csv(path + filename, sep=',', encoding='latin-1')"
      ],
      "metadata": {
        "id": "zL7L5SRhuQS8"
      },
      "execution_count": 52,
      "outputs": []
    },
    {
      "cell_type": "code",
      "source": [
        "# Criar Sub-tabela\n",
        "lista_colunas = ['Data', 'Histórico', 'Valor']\n",
        "sub_df = df[lista_colunas]\n",
        "\n",
        "# Limpar Tabela\n",
        "remover_linhas = ['Saldo Anterior', 'BB Rende Fácil - Rende Facil', 'S A L D O']\n",
        "sub_df = sub_df[~sub_df['Histórico'].isin(remover_linhas)]\n",
        "\n",
        "# Adicionar coluna\n",
        "sub_df['Tp'] = ''\n",
        "\n",
        "# Atribuir Tp\n",
        "sub_df['Tp'] = np.where(sub_df['Valor'].astype(float) > 0, 'C', 'D')\n",
        "\n",
        "# Formatar Valor\n",
        "sub_df['Valor'] = sub_df['Valor'].astype(str)\n",
        "sub_df['Valor'] = sub_df['Valor'].str.replace('.', ',', regex=False)\n",
        "sub_df['Valor'] = sub_df['Valor'].str.replace('-', '', regex=False)\n",
        "\n",
        "# Inserir Coluna Mês\n",
        "sub_df.insert(0, 'Mês', '')\n",
        "\n",
        "# Converter Data para Objeto Datetime\n",
        "data_formatada = pd.to_datetime(sub_df['Data'], format='%d/%m/%Y')\n",
        "sub_df['Mês'] = data_formatada.dt.strftime('%b/%y').str.capitalize()\n",
        "\n",
        "# Renomear Colunas\n",
        "sub_df = sub_df.rename(columns={'Data': 'Data Movimento'})"
      ],
      "metadata": {
        "id": "kaCdjX81xs3-"
      },
      "execution_count": 66,
      "outputs": []
    },
    {
      "cell_type": "code",
      "source": [
        "# Salvar e Exportar\n",
        "sub_df.to_csv(path + filename.replace('.csv', '_formatado.csv'), sep=';', index=False)"
      ],
      "metadata": {
        "id": "wGR6F4_H7x5T"
      },
      "execution_count": 68,
      "outputs": []
    }
  ]
}